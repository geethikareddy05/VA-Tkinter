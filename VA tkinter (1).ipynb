{
 "cells": [
  {
   "cell_type": "code",
   "execution_count": null,
   "id": "ef725363",
   "metadata": {},
   "outputs": [],
   "source": [
    "#pip install SpeechRecognition"
   ]
  },
  {
   "cell_type": "code",
   "execution_count": 19,
   "id": "c95c2ec5-645d-4dff-99c8-d8108e138d78",
   "metadata": {},
   "outputs": [
    {
     "name": "stdout",
     "output_type": "stream",
     "text": [
      "Requirement already satisfied: SpeechRecognition in c:\\users\\komma keerthana\\anaconda3\\lib\\site-packages (3.10.4)Note: you may need to restart the kernel to use updated packages.\n",
      "\n",
      "Requirement already satisfied: requests>=2.26.0 in c:\\users\\komma keerthana\\anaconda3\\lib\\site-packages (from SpeechRecognition) (2.32.2)\n",
      "Requirement already satisfied: typing-extensions in c:\\users\\komma keerthana\\anaconda3\\lib\\site-packages (from SpeechRecognition) (4.11.0)\n",
      "Requirement already satisfied: charset-normalizer<4,>=2 in c:\\users\\komma keerthana\\anaconda3\\lib\\site-packages (from requests>=2.26.0->SpeechRecognition) (2.0.4)\n",
      "Requirement already satisfied: idna<4,>=2.5 in c:\\users\\komma keerthana\\anaconda3\\lib\\site-packages (from requests>=2.26.0->SpeechRecognition) (3.7)\n",
      "Requirement already satisfied: urllib3<3,>=1.21.1 in c:\\users\\komma keerthana\\anaconda3\\lib\\site-packages (from requests>=2.26.0->SpeechRecognition) (2.2.2)\n",
      "Requirement already satisfied: certifi>=2017.4.17 in c:\\users\\komma keerthana\\anaconda3\\lib\\site-packages (from requests>=2.26.0->SpeechRecognition) (2024.6.2)\n"
     ]
    }
   ],
   "source": [
    "pip install SpeechRecognition"
   ]
  },
  {
   "cell_type": "code",
   "execution_count": 4,
   "id": "95391e68",
   "metadata": {},
   "outputs": [
    {
     "ename": "SyntaxError",
     "evalue": "invalid syntax (2671630480.py, line 1)",
     "output_type": "error",
     "traceback": [
      "\u001b[1;36m  Cell \u001b[1;32mIn[4], line 1\u001b[1;36m\u001b[0m\n\u001b[1;33m    pip install pyaudio\u001b[0m\n\u001b[1;37m        ^\u001b[0m\n\u001b[1;31mSyntaxError\u001b[0m\u001b[1;31m:\u001b[0m invalid syntax\n"
     ]
    }
   ],
   "source": [
    "#pip install pyaudio\n",
    "\n",
    "#pip install playsound\n",
    "\n",
    "#pip install gTTs"
   ]
  },
  {
   "cell_type": "code",
   "execution_count": 13,
   "id": "dc4876de-a187-44c1-b957-43541624f8cc",
   "metadata": {},
   "outputs": [
    {
     "name": "stdout",
     "output_type": "stream",
     "text": [
      "Requirement already satisfied: pyaudio in c:\\users\\komma keerthana\\anaconda3\\lib\\site-packages (0.2.14)\n",
      "Note: you may need to restart the kernel to use updated packages.\n"
     ]
    }
   ],
   "source": [
    "pip install pyaudio"
   ]
  },
  {
   "cell_type": "code",
   "execution_count": 14,
   "id": "1e623c3d-0968-4622-8d66-ec622c5675aa",
   "metadata": {},
   "outputs": [
    {
     "name": "stdout",
     "output_type": "stream",
     "text": [
      "Requirement already satisfied: playsound in c:\\users\\komma keerthana\\anaconda3\\lib\\site-packages (1.3.0)\n",
      "Note: you may need to restart the kernel to use updated packages.\n"
     ]
    }
   ],
   "source": [
    "pip install playsound"
   ]
  },
  {
   "cell_type": "code",
   "execution_count": 15,
   "id": "36a6bd1c-f69e-4570-97fd-213ae93c482f",
   "metadata": {},
   "outputs": [
    {
     "name": "stdout",
     "output_type": "stream",
     "text": [
      "Requirement already satisfied: gTTs in c:\\users\\komma keerthana\\anaconda3\\lib\\site-packages (2.5.2)\n",
      "Requirement already satisfied: requests<3,>=2.27 in c:\\users\\komma keerthana\\anaconda3\\lib\\site-packages (from gTTs) (2.32.2)\n",
      "Requirement already satisfied: click<8.2,>=7.1 in c:\\users\\komma keerthana\\anaconda3\\lib\\site-packages (from gTTs) (8.1.7)\n",
      "Requirement already satisfied: colorama in c:\\users\\komma keerthana\\anaconda3\\lib\\site-packages (from click<8.2,>=7.1->gTTs) (0.4.6)\n",
      "Requirement already satisfied: charset-normalizer<4,>=2 in c:\\users\\komma keerthana\\anaconda3\\lib\\site-packages (from requests<3,>=2.27->gTTs) (2.0.4)\n",
      "Requirement already satisfied: idna<4,>=2.5 in c:\\users\\komma keerthana\\anaconda3\\lib\\site-packages (from requests<3,>=2.27->gTTs) (3.7)\n",
      "Requirement already satisfied: urllib3<3,>=1.21.1 in c:\\users\\komma keerthana\\anaconda3\\lib\\site-packages (from requests<3,>=2.27->gTTs) (2.2.2)\n",
      "Requirement already satisfied: certifi>=2017.4.17 in c:\\users\\komma keerthana\\anaconda3\\lib\\site-packages (from requests<3,>=2.27->gTTs) (2024.6.2)\n",
      "Note: you may need to restart the kernel to use updated packages.\n"
     ]
    }
   ],
   "source": [
    "pip install gTTs"
   ]
  },
  {
   "cell_type": "code",
   "execution_count": 22,
   "id": "4ea85745",
   "metadata": {},
   "outputs": [
    {
     "ename": "TclError",
     "evalue": "couldn't open \"microphone.png\": no such file or directory",
     "output_type": "error",
     "traceback": [
      "\u001b[1;31m---------------------------------------------------------------------------\u001b[0m",
      "\u001b[1;31mTclError\u001b[0m                                  Traceback (most recent call last)",
      "Cell \u001b[1;32mIn[22], line 156\u001b[0m\n\u001b[0;32m    154\u001b[0m style \u001b[38;5;241m=\u001b[39m ttk\u001b[38;5;241m.\u001b[39mStyle()\n\u001b[0;32m    155\u001b[0m style\u001b[38;5;241m.\u001b[39mtheme_use(\u001b[38;5;124m'\u001b[39m\u001b[38;5;124mwinnative\u001b[39m\u001b[38;5;124m'\u001b[39m)\n\u001b[1;32m--> 156\u001b[0m photo \u001b[38;5;241m=\u001b[39m PhotoImage(file\u001b[38;5;241m=\u001b[39m\u001b[38;5;124m'\u001b[39m\u001b[38;5;124mmicrophone.png\u001b[39m\u001b[38;5;124m'\u001b[39m)\u001b[38;5;241m.\u001b[39msubsample(\u001b[38;5;241m17\u001b[39m,\u001b[38;5;241m17\u001b[39m)\n\u001b[0;32m    157\u001b[0m entry1 \u001b[38;5;241m=\u001b[39m Label(root,text\u001b[38;5;241m=\u001b[39m\u001b[38;5;124m'\u001b[39m\u001b[38;5;124mHey Codegnan How are you\u001b[39m\u001b[38;5;124m'\u001b[39m,bg\u001b[38;5;241m=\u001b[39m\u001b[38;5;124m'\u001b[39m\u001b[38;5;124mwhite\u001b[39m\u001b[38;5;124m'\u001b[39m,fg\u001b[38;5;241m=\u001b[39m\u001b[38;5;124m'\u001b[39m\u001b[38;5;124mblack\u001b[39m\u001b[38;5;124m'\u001b[39m,height\u001b[38;5;241m=\u001b[39m\u001b[38;5;241m2\u001b[39m,width\u001b[38;5;241m=\u001b[39m\u001b[38;5;241m75\u001b[39m,font\u001b[38;5;241m=\u001b[39m(\u001b[38;5;124m'\u001b[39m\u001b[38;5;124mcallibri\u001b[39m\u001b[38;5;124m'\u001b[39m,\u001b[38;5;241m13\u001b[39m,\u001b[38;5;124m'\u001b[39m\u001b[38;5;124mbold\u001b[39m\u001b[38;5;124m'\u001b[39m))\n\u001b[0;32m    158\u001b[0m entry1\u001b[38;5;241m.\u001b[39mpack(side\u001b[38;5;241m=\u001b[39mLEFT)\n",
      "File \u001b[1;32m~\\anaconda3\\Lib\\tkinter\\__init__.py:4162\u001b[0m, in \u001b[0;36mPhotoImage.__init__\u001b[1;34m(self, name, cnf, master, **kw)\u001b[0m\n\u001b[0;32m   4157\u001b[0m \u001b[38;5;28;01mdef\u001b[39;00m \u001b[38;5;21m__init__\u001b[39m(\u001b[38;5;28mself\u001b[39m, name\u001b[38;5;241m=\u001b[39m\u001b[38;5;28;01mNone\u001b[39;00m, cnf\u001b[38;5;241m=\u001b[39m{}, master\u001b[38;5;241m=\u001b[39m\u001b[38;5;28;01mNone\u001b[39;00m, \u001b[38;5;241m*\u001b[39m\u001b[38;5;241m*\u001b[39mkw):\n\u001b[0;32m   4158\u001b[0m \u001b[38;5;250m    \u001b[39m\u001b[38;5;124;03m\"\"\"Create an image with NAME.\u001b[39;00m\n\u001b[0;32m   4159\u001b[0m \n\u001b[0;32m   4160\u001b[0m \u001b[38;5;124;03m    Valid resource names: data, format, file, gamma, height, palette,\u001b[39;00m\n\u001b[0;32m   4161\u001b[0m \u001b[38;5;124;03m    width.\"\"\"\u001b[39;00m\n\u001b[1;32m-> 4162\u001b[0m     Image\u001b[38;5;241m.\u001b[39m\u001b[38;5;21m__init__\u001b[39m(\u001b[38;5;28mself\u001b[39m, \u001b[38;5;124m'\u001b[39m\u001b[38;5;124mphoto\u001b[39m\u001b[38;5;124m'\u001b[39m, name, cnf, master, \u001b[38;5;241m*\u001b[39m\u001b[38;5;241m*\u001b[39mkw)\n",
      "File \u001b[1;32m~\\anaconda3\\Lib\\tkinter\\__init__.py:4109\u001b[0m, in \u001b[0;36mImage.__init__\u001b[1;34m(self, imgtype, name, cnf, master, **kw)\u001b[0m\n\u001b[0;32m   4107\u001b[0m \u001b[38;5;28;01mfor\u001b[39;00m k, v \u001b[38;5;129;01min\u001b[39;00m cnf\u001b[38;5;241m.\u001b[39mitems():\n\u001b[0;32m   4108\u001b[0m     options \u001b[38;5;241m=\u001b[39m options \u001b[38;5;241m+\u001b[39m (\u001b[38;5;124m'\u001b[39m\u001b[38;5;124m-\u001b[39m\u001b[38;5;124m'\u001b[39m\u001b[38;5;241m+\u001b[39mk, v)\n\u001b[1;32m-> 4109\u001b[0m \u001b[38;5;28mself\u001b[39m\u001b[38;5;241m.\u001b[39mtk\u001b[38;5;241m.\u001b[39mcall((\u001b[38;5;124m'\u001b[39m\u001b[38;5;124mimage\u001b[39m\u001b[38;5;124m'\u001b[39m, \u001b[38;5;124m'\u001b[39m\u001b[38;5;124mcreate\u001b[39m\u001b[38;5;124m'\u001b[39m, imgtype, name,) \u001b[38;5;241m+\u001b[39m options)\n\u001b[0;32m   4110\u001b[0m \u001b[38;5;28mself\u001b[39m\u001b[38;5;241m.\u001b[39mname \u001b[38;5;241m=\u001b[39m name\n",
      "\u001b[1;31mTclError\u001b[0m: couldn't open \"microphone.png\": no such file or directory"
     ]
    }
   ],
   "source": [
    "#Building Virtual Assistant using Python\n",
    "'''\n",
    "import gtts\n",
    "#print(dir(gtts))\n",
    "from gtts import gTTS\n",
    "#Write the text what you want to convert to speech\n",
    "text = gTTS(\"Hello Everyone\")\n",
    "#print(text)\n",
    "#save the above text in an audio file\n",
    "text.save(\"first.mp3\")\n",
    "'''\n",
    "from gtts import gTTS\n",
    "import speech_recognition as sr\n",
    "import playsound\n",
    "from time import ctime\n",
    "import os\n",
    "import re\n",
    "import uuid #It's an identification number that will uniquely identify something. \n",
    "#The idea being that id number will be universally unique\n",
    "import smtplib\n",
    "import webbrowser\n",
    "from tkinter import *\n",
    "from tkinter import ttk\n",
    "#to make sure it listens\n",
    "global data\n",
    "def listen():\n",
    "    r = sr.Recognizer()\n",
    "    with sr.Microphone() as source:\n",
    "        print(\"Start talking\") #own statement\n",
    "        audio = r.listen(source,phrase_time_limit=5)\n",
    "    data = \"\"\n",
    "    #Exception Handling\n",
    "    try:\n",
    "        data = r.recognize_google(audio,language='en-US')\n",
    "        print(\"You said:\"+data)\n",
    "    except sr.UnknownValueError:\n",
    "        print(\"I cannot hear you\")\n",
    "    except sr.RequestError as e:\n",
    "        print(\"Request Failed\")\n",
    "    return data\n",
    "#listen()\n",
    "\n",
    "#To respond back with audio \n",
    "def respond(String):\n",
    "    print(String)\n",
    "    tts = gTTS(text = String,lang = 'en-US')\n",
    "    tts.save(\"speech.mp3\")\n",
    "    filename = \"Speech%s.mp3\"%str(uuid.uuid4())\n",
    "    tts.save(filename)\n",
    "    playsound.playsound(filename)\n",
    "    os.remove(filename)\n",
    "\n",
    "#Giving actions to our Virtual Assistant\n",
    "#Virtual Assistant actions\n",
    "def virtual_assistant(data):\n",
    "    \"\"\"give your actions\"\"\"\n",
    "    if \"how are you\" in data:\n",
    "        listening = True\n",
    "        entry1['text']=\"Good and doing well\"\n",
    "        root.update()\n",
    "        respond(\"Good and doing well\")\n",
    "\n",
    "    if \"time\" in data:\n",
    "        listening = True\n",
    "        entry1['text']=ctime()\n",
    "        root.update()\n",
    "        respond(ctime())\n",
    "    \n",
    "    if \"open google\" in data.casefold():\n",
    "        listening = True\n",
    "        reg_ex = re.search('open google(.*)',data)\n",
    "        url = \"https://www.google.com/\"\n",
    "        if reg_ex:\n",
    "            sub = reg_ex.group(1)\n",
    "            url = url + 'r/'\n",
    "        entry1['text']='Openning google'\n",
    "        root.update()\n",
    "        respond('Openning google')\n",
    "        webbrowser.open(url)\n",
    "\n",
    "    if \"locate\" in data:\n",
    "        webbrowser.open('https://www.google.com/maps/search/'+\n",
    "                        data.replace(\"locate\",\"\"))\n",
    "        result = \"Located\"\n",
    "        entry1['text']='Located'\n",
    "        root.update()\n",
    "        respond(\"Located {}\".format(data.replace(\"locate\",\"\")))\n",
    "\n",
    "    if \"email\" in data:\n",
    "        listening = True\n",
    "        entry1['text']=\"Whom should i send email to?\"\n",
    "        root.update()\n",
    "        respond(\"Whom should i send email to?\")\n",
    "        to = listen()\n",
    "        edict = {'hello':'','new':''} #give mail ids\n",
    "        toaddr = edict[to]\n",
    "        entry1['text']=\"What is the Subject?\"\n",
    "        root.update()\n",
    "        respond(\"What is the Subject?\")\n",
    "        subject = listen()\n",
    "        entry1['text']=\"What should i tell that person?\"\n",
    "        root.update()\n",
    "        respond(\"What should i tell that person?\")\n",
    "        message = listen()\n",
    "        content = 'Subject :{}\\n\\n{}'.format(subject,message)\n",
    "\n",
    "        #init gmail SMTP\n",
    "        mail = smtplib.SMTP('smtp.gmail.com',587)\n",
    "        #identify the server\n",
    "        mail.ehlo()\n",
    "        mail.starttls()\n",
    "        #login\n",
    "        mail.login('','') #enter mailid and app password make sure you enable less secure app access\n",
    "        mail.sendmail('',toaddr,content) #enter your gmail username\n",
    "        mail.close()\n",
    "        entry1['text']='Email Sent'\n",
    "        root.update()\n",
    "        respond('Email Sent')\n",
    "\n",
    "    if \"search google\" in data.casefold():\n",
    "        listening = True\n",
    "        reg_ex = re.search('search google(.*)',data.casefold())\n",
    "        print(data)\n",
    "        url = \"https://www.google.com/search?q=\"\n",
    "        if reg_ex:\n",
    "            sub = reg_ex.group(1)\n",
    "            print(sub,type(sub))\n",
    "        webbrowser.open(url + sub)\n",
    "        result = \"Success\"\n",
    "        entry1['text']=\"Search for {} complete\".format(sub)\n",
    "        root.update()\n",
    "        respond(\"Search for {} complete\".format(sub))\n",
    "\n",
    "    if \"stop\" in data:\n",
    "        listening =False\n",
    "        print(\"Listening Stopped\")\n",
    "        entry1['text']=\"Okay done take care...\"\n",
    "        root.update()\n",
    "        respond(\"Okay done take care...\")\n",
    "        root.destroy()\n",
    "\n",
    "    try:\n",
    "        return listening\n",
    "    except UnboundLocalError:\n",
    "        print(\"Timedout\")\n",
    "def final():\n",
    "    data = listen()\n",
    "    entry1['text']=data\n",
    "    root.update()\n",
    "    virtual_assistant(data)\n",
    "root = Tk() #change TK() to Toplevel() if not works\n",
    "root.title('Virtual Assistant')\n",
    "root.iconbitmap('mic.ico')\n",
    "style = ttk.Style()\n",
    "style.theme_use('winnative')\n",
    "photo = PhotoImage(file='microphone.png').subsample(17,17)\n",
    "entry1 = Label(root,text='Hey Codegnan How are you',bg='white',fg='black',height=2,width=75,font=('callibri',13,'bold'))\n",
    "entry1.pack(side=LEFT)\n",
    "MyButton6 = Button(root,image=photo, bd=0,command=final,activebackground='#c1bfbf', overrelief='groove', relief='sunken')\n",
    "MyButton6.pack(side=RIGHT)\n",
    "root.geometry('800x250')\n",
    "root.resizable(False,False)\n",
    "root.mainloop()"
   ]
  },
  {
   "cell_type": "code",
   "execution_count": null,
   "id": "268301b5",
   "metadata": {},
   "outputs": [],
   "source": []
  },
  {
   "cell_type": "code",
   "execution_count": null,
   "id": "38187e7f-7292-49bc-a8d2-15a95184ce66",
   "metadata": {},
   "outputs": [],
   "source": []
  },
  {
   "cell_type": "code",
   "execution_count": null,
   "id": "67facf4c-165e-4359-8d98-b99ed284c4ee",
   "metadata": {},
   "outputs": [],
   "source": []
  }
 ],
 "metadata": {
  "kernelspec": {
   "display_name": "Python 3 (ipykernel)",
   "language": "python",
   "name": "python3"
  },
  "language_info": {
   "codemirror_mode": {
    "name": "ipython",
    "version": 3
   },
   "file_extension": ".py",
   "mimetype": "text/x-python",
   "name": "python",
   "nbconvert_exporter": "python",
   "pygments_lexer": "ipython3",
   "version": "3.12.4"
  }
 },
 "nbformat": 4,
 "nbformat_minor": 5
}
